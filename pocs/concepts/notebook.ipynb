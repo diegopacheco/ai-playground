{
 "cells": [
  {
   "cell_type": "markdown",
   "metadata": {},
   "source": [
    "# AI\n",
    "\n",
    "AI is the simulation of human intelligence processes by computer systems.\n",
    "\n",
    "## AI Classification\n",
    "\n",
    "<img src=\"images/ai-classification.png\" heigth=\"300\" width=\"400\" />\n",
    "\n",
    "### Supervised Learning\n",
    "\n",
    "It's all about label data.\n",
    "\n",
    "<img src=\"images/label-vs-unlabeled.png\" heigth=\"300\" width=\"400\" />\n",
    "\n",
    "### Supervised Learning - Use Cases\n",
    "\n",
    "* Spam Detection: Spam vs Ham\n",
    "* Image Recognition: Hotdog vs Not Hotdog\n",
    "* Predict House Pricing, Predict Stock Prices: Regression\n",
    "* Cusotomer Churn Prediction: Churn vs Not Churn\n",
    "* Credit Scoring Prediction: Good vs Bad"
   ]
  },
  {
   "cell_type": "markdown",
   "metadata": {},
   "source": [
    "### Linear Regression \n",
    "\n",
    "Using Python Sklearn. \n",
    "\n",
    "Linear regression is a statistical method used to model the relationship between a dependent variable (y) and one or more independent variables (x)"
   ]
  },
  {
   "cell_type": "code",
   "execution_count": 2,
   "metadata": {},
   "outputs": [
    {
     "data": {
      "image/png": "[encoded data removed]",
      "text/plain": [
       "<Figure size 432x288 with 1 Axes>"
      ]
     },
     "metadata": {
      "needs_background": "light"
     },
     "output_type": "display_data"
    }
   ],
   "source": [
    "import matplotlib.pyplot as plt\n",
    "import numpy as np\n",
    "from sklearn import datasets, linear_model\n",
    "\n",
    "# House sizes in square feet (in hundreds)\n",
    "sizes = np.array([15, 20, 25, 30, 35, 40, 45, 50, 55, 60]).reshape((-1, 1))\n",
    "\n",
    "# Corresponding house prices in $1000s\n",
    "prices = np.array([150, 180, 220, 260, 300, 340, 380, 420, 460, 500])\n",
    "\n",
    "# Create linear regression object\n",
    "regr = linear_model.LinearRegression()\n",
    "\n",
    "# Train the model using the training sets\n",
    "regr.fit(sizes, prices)\n",
    "\n",
    "# Make predictions using the testing set\n",
    "price_pred = regr.predict(sizes)\n",
    "\n",
    "# Plot outputs\n",
    "plt.scatter(sizes, prices,  color='black')\n",
    "plt.plot(sizes, price_pred, color='red', linewidth=3)\n",
    "plt.xlabel('Size (in hundreds of square feet)')\n",
    "plt.ylabel('Price (in $1000s)')\n",
    "plt.show()"
   ]
  },
  {
   "cell_type": "markdown",
   "metadata": {},
   "source": [
    "Linear regression, the equation is usually written as:\n",
    "```\n",
    "y = b + mx + e\n",
    "```\n",
    "where:\n",
    "```\n",
    "b is the y-intercept of the regression line\n",
    "m is the slope of the regression line\n",
    "e is the error term (the difference between the actual and predicted values)\n",
    "```\n",
    "\n",
    "The slope m and y-intercept b are determined during the training process. The training process involves finding the values of m and b that minimize the sum of the squared error terms. This method is called the method of least squares.\n"
   ]
  },
  {
   "cell_type": "markdown",
   "metadata": {},
   "source": [
    "### Logistic Regression\n",
    "\n",
    "Logistic regression is a statistical method used to model the relationship between a dependent variable (y) and one or more \n",
    "Independent variables (x) when the dependent variable is binary.\n",
    "Binary values like 0/1, yes/no, true/false"
   ]
  }
 ],
 "metadata": {
  "kernelspec": {
   "display_name": "Python 3",
   "language": "python",
   "name": "python3"
  },
  "language_info": {
   "codemirror_mode": {
    "name": "ipython",
    "version": 3
   },
   "file_extension": ".py",
   "mimetype": "text/x-python",
   "name": "python",
   "nbconvert_exporter": "python",
   "pygments_lexer": "ipython3",
   "version": "3.10.12"
  }
 },
 "nbformat": 4,
 "nbformat_minor": 2
}
