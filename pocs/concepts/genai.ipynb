{
 "cells": [
  {
   "cell_type": "markdown",
   "metadata": {},
   "source": [
    "# Generative AI\n",
    "\n",
    "Gen AI is a new field of AI that focuses on creating new content, such as images, music, and text. \n",
    "\n",
    "<img src=\"images/timeline-genai.png\" width=\"600\" height=\"400\" />\n",
    "\n",
    "## Gen AI Use Cases\n",
    "\n",
    "**Text Generation**: Create new text, such as articles, stories, or conversations.\n",
    "\n",
    "**Image Generation**: Create new images, such as photos, artwork, or designs.\n",
    "\n",
    "**Music Generation**: Compose music, melodies, or sound effects.\n",
    "\n",
    "**Video Generation**: Create new videos, such as animations or clips.\n",
    "\n",
    "**Data Generation**: Create synthetic data for training or testing.\n",
    "\n",
    "**Style Transfer**: Transfer styles between images, music, or text.\n",
    "\n",
    "**Image-to-Image Translation**: Translate images from one domain to another.\n",
    "\n",
    "**Text-to-Image Synthesis**: Generate images from text descriptions.\n",
    "\n",
    "**Dialogue Generation**: Engage in conversation, responding to user input.\n",
    "\n",
    "**Creative Writing**: Generate creative writing, such as poetry or short stories."
   ]
  },
  {
   "cell_type": "markdown",
   "metadata": {},
   "source": [
    "## Deep Learning\n",
    "\n",
    "Deep learning is a subfield of machine learning that focuses on neural networks.\n",
    "\n",
    "Neural Networks are a type of model that is inspired by the human brain. They consist of layers of neurons that process input data and produce output data. Deep Neural Networks are neural networks with many layers. They are capable of learning complex patterns in data.\n",
    "\n",
    "<img src=\"images/nn.png\" width=\"600\" height=\"400\" />"
   ]
  },
  {
   "cell_type": "markdown",
   "metadata": {},
   "source": [
    "## Transformers\n",
    "\n",
    "Transformers are a type of neural network architecture that has been successful in many Gen AI tasks. They are based on self-attention mechanisms that allow them to model long-range dependencies in data. Transformers have been used in many applications, such as language modeling, translation, and image generation.\n",
    "\n",
    "<img src=\"images/transformers.png\" width=\"600\" height=\"600\" />"
   ]
  },
  {
   "cell_type": "markdown",
   "metadata": {},
   "source": [
    "## ChatGPT"
   ]
  },
  {
   "cell_type": "markdown",
   "metadata": {},
   "source": [
    "## Hugging Face"
   ]
  },
  {
   "cell_type": "markdown",
   "metadata": {},
   "source": [
    "## ONNX - Open Neural Network Exchange"
   ]
  },
  {
   "cell_type": "markdown",
   "metadata": {},
   "source": [
    "## RaG (Retrieval-augmented Generation)\n"
   ]
  },
  {
   "cell_type": "markdown",
   "metadata": {},
   "source": [
    "## KAN"
   ]
  },
  {
   "cell_type": "markdown",
   "metadata": {},
   "source": [
    "## Stable Diffusion and GAN"
   ]
  }
 ],
 "metadata": {
  "language_info": {
   "name": "python"
  }
 },
 "nbformat": 4,
 "nbformat_minor": 2
}
