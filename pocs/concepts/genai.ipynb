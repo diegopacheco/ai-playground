{
 "cells": [
  {
   "cell_type": "markdown",
   "metadata": {},
   "source": [
    "# Generative AI\n",
    "\n",
    "Gen AI is a new field of AI that focuses on creating new content, such as images, music, and text. \n",
    "\n",
    "<img src=\"images/timeline-genai.png\" width=\"600\" height=\"400\" />\n",
    "\n",
    "## Gen AI Use Cases\n",
    "\n",
    "**Text Generation**: Create new text, such as articles, stories, or conversations.\n",
    "\n",
    "**Image Generation**: Create new images, such as photos, artwork, or designs.\n",
    "\n",
    "**Music Generation**: Compose music, melodies, or sound effects.\n",
    "\n",
    "**Video Generation**: Create new videos, such as animations or clips.\n",
    "\n",
    "**Data Generation**: Create synthetic data for training or testing.\n",
    "\n",
    "**Style Transfer**: Transfer styles between images, music, or text.\n",
    "\n",
    "**Image-to-Image Translation**: Translate images from one domain to another.\n",
    "\n",
    "**Text-to-Image Synthesis**: Generate images from text descriptions.\n",
    "\n",
    "**Dialogue Generation**: Engage in conversation, responding to user input.\n",
    "\n",
    "**Creative Writing**: Generate creative writing, such as poetry or short stories."
   ]
  }
 ],
 "metadata": {
  "language_info": {
   "name": "python"
  }
 },
 "nbformat": 4,
 "nbformat_minor": 2
}
